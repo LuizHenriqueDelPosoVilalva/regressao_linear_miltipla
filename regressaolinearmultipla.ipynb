{
 "cells": [
  {
   "cell_type": "code",
   "execution_count": 2,
   "metadata": {},
   "outputs": [
    {
     "name": "stdout",
     "output_type": "stream",
     "text": [
      "Coeficientes: [-3.55952354e+00 -5.39753867e+01 -2.69058451e+00  1.11009089e+01\n",
      "  9.28615439e+00 -1.50448227e+01 -4.06489912e+00 -2.38442692e+00\n",
      " -3.20131375e-04]\n",
      "Intercepto: 23.27341951592419\n",
      "Previsão para o novo conjunto de dados: [-39953.40853995]\n",
      "Coeficiente de correlação (R²): 0.9792963398760504\n",
      "Erro médio quadrático (MSE): 0.17718910973518429\n",
      "Teste F - Estatística F: [3.82419940e-01 7.50117629e-03 2.97097252e-01 9.73243036e-01\n",
      " 1.72699678e+00 2.46778972e+00 1.22128582e-01 7.84333269e+00\n",
      " 9.52822177e-01]\n",
      "Teste F - Valor p: [0.5516381  0.93287834 0.59895313 0.34965041 0.22130045 0.15064934\n",
      " 0.734775   0.02069251 0.35450767]\n"
     ]
    },
    {
     "name": "stderr",
     "output_type": "stream",
     "text": [
      "/usr/lib/python3/dist-packages/sklearn/base.py:420: UserWarning: X does not have valid feature names, but LinearRegression was fitted with feature names\n",
      "  warnings.warn(\n"
     ]
    }
   ],
   "source": [
    "import pandas as pd\n",
    "import numpy as np\n",
    "from sklearn.linear_model import LinearRegression\n",
    "from sklearn.metrics import r2_score, mean_squared_error\n",
    "from sklearn.feature_selection import f_regression\n",
    "\n",
    "# Criando o dataframe\n",
    "df = pd.DataFrame({\n",
    "    \"comércio\": [0.8, 0.1, -0.8, 0, 0.9, -0.2, 0.8, -0.3, 0.2, -1.4, 2.5],\n",
    "    \"custo-por-metro-quadrado\": [0.2, 0.27, 0.36, 0.39, 0.23, 0.18, 0.02, 0.14, 0.08, 0.26, 0.19],\n",
    "    \"industria\": [1.2, -0.7, 0.4, 0, -0.4, 0.5, 0.2, 0, 0.6, 1.6, -1.6],\n",
    "    \"inpc\": [0.64, 0.53, 0.36, -0.1, -0.09, 0.2, 0.11, 0.12, 0.1, 0.55, 0.57],\n",
    "    \"ipca\": [0.71, 0.61, 0.23, -0.08, 0.12, 0.23, 0.26, 0.24, 0.28, 0.56, 0.42],\n",
    "    \"ipca-15\": [0.69, 0.57, 0.51, 0.04, -0.07, 0.28, 0.35, 0.21, 0.33, 0.4, 0.31],\n",
    "    \"ipp\": [-0.65, -0.35, -2.88, -2.72, -0.76, 0.75, 1.06, 1.07, -0.34, -0.2, -0.31],\n",
    "    \"servicos\": [1.7, -2, 1.6, 0.4, 1, -1.4, -0.1, -0.2, 0.5, 0.7, 0.7],\n",
    "    \"pib-per-capita\": [19938.6, 22259.91, 24278.35, 26657.54, 28648.74, 29466.85, 30558.75, 31843.95, 33593.82, 35161.7, 35935.69],\n",
    "    \"variação-do-pib\": [1.7, 12.4, 4.2, 1.5, 1.5, 3.5, 4.3, 2.7, 4.2, 3.5, 2]\n",
    "})\n",
    "\n",
    "# Criando as variáveis explicativas\n",
    "X = df[[\"comércio\", \"custo-por-metro-quadrado\", \"industria\", \"inpc\", \"ipca\", \"ipca-15\", \"ipp\", \"servicos\", \"pib-per-capita\"]]\n",
    "\n",
    "# Criando a variável dependente\n",
    "y = df[\"variação-do-pib\"]\n",
    "\n",
    "# Criando e ajustando o modelo de regressão linear múltipla\n",
    "modelo = LinearRegression()\n",
    "modelo.fit(X, y)\n",
    "\n",
    "# Obtendo os coeficientes de regressão e o intercepto\n",
    "coefs = modelo.coef_\n",
    "intercepto = modelo.intercept_\n",
    "\n",
    "# Coeficiente de correlação (R²) e Erro médio quadrático (MSE)\n",
    "r2 = r2_score(y, modelo.predict(X))\n",
    "mse = mean_squared_error(y, modelo.predict(X))\n",
    "\n",
    "# Teste F\n",
    "f_statistic, pval = f_regression(X, y)\n",
    "\n",
    "# Previsão para um novo conjunto de dados\n",
    "x_novo = np.array([[10000, 80, 20, 0, 0, 0, 0, 0, 30000]])\n",
    "y_predito = modelo.predict(x_novo)\n",
    "\n",
    "# Imprimindo os resultados\n",
    "print(\"Coeficientes:\", coefs)\n",
    "print(\"Intercepto:\", intercepto)\n",
    "print(\"Previsão para o novo conjunto de dados:\", y_predito)\n",
    "print(\"Coeficiente de correlação (R²):\", r2)\n",
    "print(\"Erro médio quadrático (MSE):\", mse)\n",
    "print(\"Teste F - Estatística F:\", f_statistic)\n",
    "print(\"Teste F - Valor p:\", pval)"
   ]
  }
 ],
 "metadata": {
  "kernelspec": {
   "display_name": "Python 3",
   "language": "python",
   "name": "python3"
  },
  "language_info": {
   "codemirror_mode": {
    "name": "ipython",
    "version": 3
   },
   "file_extension": ".py",
   "mimetype": "text/x-python",
   "name": "python",
   "nbconvert_exporter": "python",
   "pygments_lexer": "ipython3",
   "version": "3.11.4"
  }
 },
 "nbformat": 4,
 "nbformat_minor": 2
}
